{
 "cells": [
  {
   "cell_type": "code",
   "execution_count": 4,
   "id": "9c2eb26f-b4a8-4c62-8204-a4b85519896b",
   "metadata": {},
   "outputs": [],
   "source": [
    "#NUMPY --> #pip install numpy"
   ]
  },
  {
   "cell_type": "code",
   "execution_count": null,
   "id": "fcc719c1-11cf-427e-ba45-b516b7fed686",
   "metadata": {},
   "outputs": [],
   "source": [
    "import numpy as np"
   ]
  },
  {
   "cell_type": "code",
   "execution_count": null,
   "id": "db73be91-1815-41ab-91c3-c7ddd2f319b4",
   "metadata": {},
   "outputs": [],
   "source": [
    "#array --> [1,2,3,4,5]"
   ]
  },
  {
   "cell_type": "code",
   "execution_count": 6,
   "id": "f2eeb3e8-8f5b-4c87-9515-42845fc5eb21",
   "metadata": {},
   "outputs": [
    {
     "data": {
      "text/plain": [
       "list"
      ]
     },
     "execution_count": 6,
     "metadata": {},
     "output_type": "execute_result"
    }
   ],
   "source": [
    "a = [1,2,3,4,5]\n",
    "type(a)"
   ]
  },
  {
   "cell_type": "code",
   "execution_count": null,
   "id": "fb01d6f2-b7d7-4c61-8ab5-ede4ca5212fc",
   "metadata": {},
   "outputs": [],
   "source": [
    "b = np.array(a)\n",
    "print(b)\n",
    "print(type(b))"
   ]
  },
  {
   "cell_type": "code",
   "execution_count": null,
   "id": "6247be40-aa01-4c76-aa97-7ca04115482d",
   "metadata": {},
   "outputs": [],
   "source": [
    "b"
   ]
  },
  {
   "cell_type": "code",
   "execution_count": null,
   "id": "1865b9fc-6319-4e44-b8f7-54b7ad412091",
   "metadata": {},
   "outputs": [],
   "source": [
    "print(b[3])"
   ]
  },
  {
   "cell_type": "code",
   "execution_count": null,
   "id": "bf2b1deb-3c84-44e3-a604-dc7b6720f07e",
   "metadata": {},
   "outputs": [],
   "source": [
    "b[3]"
   ]
  },
  {
   "cell_type": "code",
   "execution_count": null,
   "id": "592dd7d6-a3bf-48ec-8b70-6eacd7591719",
   "metadata": {},
   "outputs": [],
   "source": [
    "c = np.array([[1,2,3],\n",
    "              [4,5,6]])"
   ]
  },
  {
   "cell_type": "code",
   "execution_count": null,
   "id": "daa10b39-2a0a-4771-9c28-9f8381cbc1da",
   "metadata": {},
   "outputs": [],
   "source": [
    "print(type(c))"
   ]
  },
  {
   "cell_type": "code",
   "execution_count": null,
   "id": "949182d8-4ffc-4d97-acf7-46499a07c7c9",
   "metadata": {},
   "outputs": [],
   "source": [
    "print(c)"
   ]
  },
  {
   "cell_type": "code",
   "execution_count": null,
   "id": "5b43111e-7b33-4509-8571-4bcc4426678b",
   "metadata": {},
   "outputs": [],
   "source": [
    "d = np.array([1,2,3])"
   ]
  },
  {
   "cell_type": "code",
   "execution_count": null,
   "id": "5e975357-4465-44fc-a1ed-95d4bb480172",
   "metadata": {},
   "outputs": [],
   "source": [
    "print(d)"
   ]
  },
  {
   "cell_type": "code",
   "execution_count": null,
   "id": "5bc41f07-74df-4272-b96c-52b1e79eb5a5",
   "metadata": {},
   "outputs": [],
   "source": [
    "d[2]"
   ]
  },
  {
   "cell_type": "code",
   "execution_count": null,
   "id": "3f7333f6-2967-4013-94aa-cb535f47b721",
   "metadata": {},
   "outputs": [],
   "source": [
    "print(c[1,2])"
   ]
  },
  {
   "cell_type": "code",
   "execution_count": null,
   "id": "c73c07eb-dc42-420c-91d8-be7ae64b675f",
   "metadata": {},
   "outputs": [],
   "source": [
    "print(c[0,0])"
   ]
  },
  {
   "cell_type": "code",
   "execution_count": null,
   "id": "adfe0cf1-e2b9-46b9-abde-e907ed0e8750",
   "metadata": {},
   "outputs": [],
   "source": [
    "print(c)"
   ]
  },
  {
   "cell_type": "code",
   "execution_count": null,
   "id": "3ed50a8f-d4af-406b-9bfc-311c3816ea0a",
   "metadata": {},
   "outputs": [],
   "source": [
    "print(c[:]) #[[1 2 3] [4 5 6]]"
   ]
  },
  {
   "cell_type": "code",
   "execution_count": null,
   "id": "d5ccf417-ab5c-44f2-bbc4-5490b57be146",
   "metadata": {},
   "outputs": [],
   "source": [
    "e = np.array([[1,2,3,1,2,3,1,2,3],\n",
    "              [4,5,6,14,15,16,24,25,26],\n",
    "             [10,20,30,110,120,130,210,220,230],\n",
    "              [40,50,60,140,150,160,240,250,260]])"
   ]
  },
  {
   "cell_type": "code",
   "execution_count": null,
   "id": "19505ab5-ab02-43a0-a549-ac6c2936a9f5",
   "metadata": {},
   "outputs": [],
   "source": [
    "print(e[1:,2:5])"
   ]
  },
  {
   "cell_type": "code",
   "execution_count": null,
   "id": "90d68309-c444-413b-aa6d-6e9d7f4d3ee4",
   "metadata": {},
   "outputs": [],
   "source": [
    "e = [[1,2,3,1,2,3,1,2,3],\n",
    "              [4,5,6,14,15,16,24,25,26],\n",
    "             [10,20,30,110,120,130,210,220,230],\n",
    "              [40,50,60,140,150,160,240,250,260]]"
   ]
  },
  {
   "cell_type": "code",
   "execution_count": null,
   "id": "4aedfc65-495d-4185-ae29-539664baab44",
   "metadata": {},
   "outputs": [],
   "source": [
    "print(e)"
   ]
  },
  {
   "cell_type": "code",
   "execution_count": null,
   "id": "ef783a89-107e-4c62-8a05-17297ea37f92",
   "metadata": {},
   "outputs": [],
   "source": [
    "np.arange(1,10)"
   ]
  },
  {
   "cell_type": "code",
   "execution_count": null,
   "id": "5c4f0819-5fee-4757-9b7b-c3ba0776e816",
   "metadata": {},
   "outputs": [],
   "source": [
    "np.arange(1,10).reshape(3,3)"
   ]
  },
  {
   "cell_type": "code",
   "execution_count": null,
   "id": "3185f926-6ce3-4e9f-907d-5dc67cd8b307",
   "metadata": {},
   "outputs": [],
   "source": [
    "x = np.arange(0,10).reshape(2,5)\n",
    "print(x)"
   ]
  },
  {
   "cell_type": "code",
   "execution_count": null,
   "id": "6f08176d-7d85-43e2-94a9-4921280d412a",
   "metadata": {},
   "outputs": [],
   "source": [
    "y = np.arange(20,30).reshape(2,5)\n",
    "print(y)"
   ]
  },
  {
   "cell_type": "code",
   "execution_count": null,
   "id": "98850f2e-9fd5-4d2d-8b0a-af8471bce109",
   "metadata": {},
   "outputs": [],
   "source": [
    "z = x + y"
   ]
  },
  {
   "cell_type": "code",
   "execution_count": null,
   "id": "07e57baf-1898-4164-b1a4-34750b59ccb2",
   "metadata": {},
   "outputs": [],
   "source": [
    "print(z)"
   ]
  },
  {
   "cell_type": "code",
   "execution_count": null,
   "id": "301761d7-7c89-4274-b085-98a73c1e90f0",
   "metadata": {},
   "outputs": [],
   "source": [
    "print(x)\n",
    "print(x*5)"
   ]
  },
  {
   "cell_type": "code",
   "execution_count": null,
   "id": "4bee37c9-4965-4da7-bcd1-953cc116632a",
   "metadata": {},
   "outputs": [],
   "source": [
    "print(z)"
   ]
  },
  {
   "cell_type": "code",
   "execution_count": null,
   "id": "9e98c378-5c01-4eca-9153-9f4c34426b4d",
   "metadata": {},
   "outputs": [],
   "source": [
    "z.reshape(5,2,1)"
   ]
  },
  {
   "cell_type": "code",
   "execution_count": null,
   "id": "cd2c5732-d23a-4301-b802-21c86afbfc90",
   "metadata": {},
   "outputs": [],
   "source": [
    "np.zeros(10)"
   ]
  },
  {
   "cell_type": "code",
   "execution_count": null,
   "id": "2e26a88a-cb98-4aa2-947f-cb767f088279",
   "metadata": {},
   "outputs": [],
   "source": [
    "x = np.zeros(10).reshape(5,2)\n",
    "print(x)"
   ]
  },
  {
   "cell_type": "code",
   "execution_count": null,
   "id": "88baa80f-9983-4837-9445-1ceefc8d9005",
   "metadata": {},
   "outputs": [],
   "source": [
    "y = np.ones(10).reshape(5,2)\n",
    "print(y)"
   ]
  },
  {
   "cell_type": "code",
   "execution_count": null,
   "id": "625395da-da1f-4d50-8acb-c45653f7afea",
   "metadata": {},
   "outputs": [],
   "source": [
    "z = x+y\n",
    "print(z)"
   ]
  },
  {
   "cell_type": "code",
   "execution_count": null,
   "id": "44a655d0-d4cf-4f37-8008-afe8090662bc",
   "metadata": {},
   "outputs": [],
   "source": [
    " k = np.full(10,5)"
   ]
  },
  {
   "cell_type": "code",
   "execution_count": null,
   "id": "6c193f8c-c507-4d3d-99e2-6abb78372b80",
   "metadata": {},
   "outputs": [],
   "source": [
    "k.reshape(5,2)"
   ]
  },
  {
   "cell_type": "code",
   "execution_count": null,
   "id": "469920ed-9b0c-44fc-8c3c-c451c7a73df4",
   "metadata": {},
   "outputs": [],
   "source": [
    "np.random.randint(100)"
   ]
  },
  {
   "cell_type": "code",
   "execution_count": null,
   "id": "fc2ffd18-133a-4f65-a90c-279b4dcbff4a",
   "metadata": {},
   "outputs": [],
   "source": [
    "r = np.random.randint(100, size = (5,5))"
   ]
  },
  {
   "cell_type": "code",
   "execution_count": null,
   "id": "fe913564-b242-45c5-b29b-16e8322de095",
   "metadata": {},
   "outputs": [],
   "source": [
    "print(r)"
   ]
  },
  {
   "cell_type": "code",
   "execution_count": null,
   "id": "ac3bca73-7966-4a46-9990-f13d2a15523a",
   "metadata": {},
   "outputs": [],
   "source": [
    "arr = np.array([[1,2,3],[4,5,6]])"
   ]
  },
  {
   "cell_type": "code",
   "execution_count": null,
   "id": "b7843542-cd58-4750-ab95-b0f1773f562d",
   "metadata": {},
   "outputs": [],
   "source": [
    "print(arr)"
   ]
  },
  {
   "cell_type": "code",
   "execution_count": null,
   "id": "2aa7959a-0e91-47a0-8cab-57b58d6d03c1",
   "metadata": {},
   "outputs": [],
   "source": [
    "print(arr.shape)"
   ]
  },
  {
   "cell_type": "code",
   "execution_count": null,
   "id": "377dd3f1-aa4b-4e1c-a039-0fb74fdfdd21",
   "metadata": {},
   "outputs": [],
   "source": [
    "print(arr.ndim)"
   ]
  },
  {
   "cell_type": "code",
   "execution_count": null,
   "id": "dcdbf0b6-d9db-4ddc-a26c-8dcf7eb5e5a7",
   "metadata": {},
   "outputs": [],
   "source": [
    "print(arr.size)"
   ]
  },
  {
   "cell_type": "code",
   "execution_count": null,
   "id": "07a8f1ef-a532-4fb2-b547-95be800f7cdd",
   "metadata": {},
   "outputs": [],
   "source": [
    "print(arr.dtype)"
   ]
  },
  {
   "cell_type": "code",
   "execution_count": null,
   "id": "bfceff53-eec5-4eac-8eea-15a1d88e2885",
   "metadata": {},
   "outputs": [],
   "source": [
    "x = np.array([4,9,16,25,36])\n",
    "y = np.array([10,20,30,40,50])"
   ]
  },
  {
   "cell_type": "code",
   "execution_count": null,
   "id": "e68d8c46-08b0-48ff-982e-37dcad41caf0",
   "metadata": {},
   "outputs": [],
   "source": [
    "print(x+y)"
   ]
  },
  {
   "cell_type": "code",
   "execution_count": null,
   "id": "1e027428-d4d2-4a10-a1ee-39c7c54439c4",
   "metadata": {},
   "outputs": [],
   "source": [
    "print(x-y)"
   ]
  },
  {
   "cell_type": "code",
   "execution_count": null,
   "id": "f6aaa802-13cd-4814-85ba-2eb5971f7792",
   "metadata": {},
   "outputs": [],
   "source": [
    "print(np.sqrt(x))"
   ]
  },
  {
   "cell_type": "code",
   "execution_count": null,
   "id": "2fa6fc30-cb8f-4eca-b635-9150a2efee4e",
   "metadata": {},
   "outputs": [],
   "source": [
    "print(np.exp(x))"
   ]
  },
  {
   "cell_type": "code",
   "execution_count": null,
   "id": "c5584e30-825b-495e-b076-1d42368a2f32",
   "metadata": {},
   "outputs": [],
   "source": [
    "print(np.log(x))"
   ]
  },
  {
   "cell_type": "code",
   "execution_count": null,
   "id": "cd87c526-7d8d-42e3-8461-772cd4e886d3",
   "metadata": {},
   "outputs": [],
   "source": [
    "print(np.sin(x))"
   ]
  },
  {
   "cell_type": "code",
   "execution_count": null,
   "id": "2de24377-2ace-4269-9d4f-ce346ccdee10",
   "metadata": {},
   "outputs": [],
   "source": [
    "arr[0,0] = 1000"
   ]
  },
  {
   "cell_type": "code",
   "execution_count": null,
   "id": "ddaac8a6-0411-4d0d-9a05-45971c0daf48",
   "metadata": {},
   "outputs": [],
   "source": [
    "print(arr)"
   ]
  },
  {
   "cell_type": "code",
   "execution_count": null,
   "id": "b47a5d00-6fb2-454b-9132-f91af0a0e03a",
   "metadata": {},
   "outputs": [],
   "source": [
    "arr[0,0] = 1"
   ]
  },
  {
   "cell_type": "code",
   "execution_count": null,
   "id": "dfffb14e-05d0-4696-b9a4-7a902f08013d",
   "metadata": {},
   "outputs": [],
   "source": [
    "print(arr)"
   ]
  },
  {
   "cell_type": "code",
   "execution_count": null,
   "id": "a9e3525f-546a-48c9-b0a9-6868c42c9f51",
   "metadata": {},
   "outputs": [],
   "source": [
    "#[4,9,16,25,36,49]"
   ]
  },
  {
   "cell_type": "code",
   "execution_count": null,
   "id": "4743be08-d152-42b3-8ef2-ffe392874ea2",
   "metadata": {},
   "outputs": [],
   "source": [
    "c = np.array([4,9,16,25,36,49])"
   ]
  },
  {
   "cell_type": "code",
   "execution_count": null,
   "id": "0c9e3e04-7945-4878-b66b-4c467be57952",
   "metadata": {},
   "outputs": [],
   "source": [
    "print(np.mean(c))"
   ]
  },
  {
   "cell_type": "code",
   "execution_count": null,
   "id": "d112e3b0-4025-4a97-8f24-28bb13d163c7",
   "metadata": {},
   "outputs": [],
   "source": [
    "print(np.std(c))"
   ]
  },
  {
   "cell_type": "code",
   "execution_count": null,
   "id": "74ca64e3-0fa3-47f6-af51-cc19f5973f48",
   "metadata": {},
   "outputs": [],
   "source": [
    "print(np.median(c))"
   ]
  },
  {
   "cell_type": "code",
   "execution_count": null,
   "id": "63042cdd-eed3-45e9-a4ad-9a2b682caa3b",
   "metadata": {},
   "outputs": [],
   "source": [
    "print(np.var(c))"
   ]
  },
  {
   "cell_type": "code",
   "execution_count": null,
   "id": "2c501765-5132-491b-98e1-b32e0710a5cf",
   "metadata": {},
   "outputs": [],
   "source": [
    "[4,9,16,25,36,49]"
   ]
  },
  {
   "cell_type": "code",
   "execution_count": null,
   "id": "55ec0e7d-027e-4fec-8521-fd61ba7c5020",
   "metadata": {},
   "outputs": [],
   "source": [
    "c = np.array([4,9,16,25,36,49])"
   ]
  },
  {
   "cell_type": "code",
   "execution_count": null,
   "id": "fbabd6fe-61cc-4381-b6d0-4f51a8ec8c45",
   "metadata": {},
   "outputs": [],
   "source": [
    "c[(c>=10) & (c<=30)]"
   ]
  },
  {
   "cell_type": "code",
   "execution_count": null,
   "id": "e7949708-ff16-4ce4-8f1e-594b6fe5ce98",
   "metadata": {},
   "outputs": [],
   "source": []
  },
  {
   "cell_type": "code",
   "execution_count": null,
   "id": "8a59a958-4a6e-446f-8ed3-8e04a58ec443",
   "metadata": {},
   "outputs": [],
   "source": []
  },
  {
   "cell_type": "code",
   "execution_count": null,
   "id": "aaf31a9d-22ef-4977-87c7-3fd199f920ff",
   "metadata": {},
   "outputs": [],
   "source": [
    "#Pandas"
   ]
  },
  {
   "cell_type": "code",
   "execution_count": null,
   "id": "89ba045c-9e05-48c2-8776-29599b92c54d",
   "metadata": {},
   "outputs": [],
   "source": [
    "import pandas as pd"
   ]
  },
  {
   "cell_type": "code",
   "execution_count": null,
   "id": "51cc12ac-b18b-46a1-8a69-29b0cc73275a",
   "metadata": {},
   "outputs": [],
   "source": [
    "d = [1,2,3,4,5]"
   ]
  },
  {
   "cell_type": "code",
   "execution_count": null,
   "id": "d50f0bbe-0aa6-4ff7-8afd-cd97023d1ecf",
   "metadata": {},
   "outputs": [],
   "source": [
    "print(d)"
   ]
  },
  {
   "cell_type": "code",
   "execution_count": null,
   "id": "be960683-52e4-4342-ab8c-e1d891c0236d",
   "metadata": {},
   "outputs": [],
   "source": [
    "df = pd.Series(d)\n",
    "print(df)"
   ]
  },
  {
   "cell_type": "code",
   "execution_count": null,
   "id": "c9b674cb-4eda-43fc-ac5f-eaf290464faf",
   "metadata": {},
   "outputs": [],
   "source": [
    "e = {'a':1,'b':2,'c':3}"
   ]
  },
  {
   "cell_type": "code",
   "execution_count": null,
   "id": "74a90031-37d0-49cc-8da0-66cd95dbcb07",
   "metadata": {},
   "outputs": [],
   "source": [
    "df = pd.Series(e)\n",
    "print(df)"
   ]
  },
  {
   "cell_type": "code",
   "execution_count": null,
   "id": "e438fc7f-5022-4748-a504-b59a73a85336",
   "metadata": {},
   "outputs": [],
   "source": [
    "a = ['a','b','c']\n",
    "b = [10,20,30]\n",
    "\n",
    "df = pd.Series(b, index = a)"
   ]
  },
  {
   "cell_type": "code",
   "execution_count": null,
   "id": "294254cc-7a5c-4eff-9e7c-de0ecd8d4285",
   "metadata": {},
   "outputs": [],
   "source": [
    "print(df)"
   ]
  },
  {
   "cell_type": "code",
   "execution_count": null,
   "id": "127c386e-47a0-427f-bf08-bce298897f91",
   "metadata": {},
   "outputs": [],
   "source": [
    "d = {\n",
    "'ID' : ['a','b','c'],\n",
    "'Mark' : [10,20,30],\n",
    "'Name' : ['Arun','Guru','Vijay']\n",
    "}"
   ]
  },
  {
   "cell_type": "code",
   "execution_count": null,
   "id": "430082dd-645f-4c76-8e3e-25e22b989704",
   "metadata": {},
   "outputs": [],
   "source": [
    "df = pd.Series(d)\n",
    "print(df)"
   ]
  },
  {
   "cell_type": "code",
   "execution_count": null,
   "id": "5a3e1c5d-9769-4f7b-b54a-d06cd0f1e93c",
   "metadata": {},
   "outputs": [],
   "source": [
    "df = pd.DataFrame(d)"
   ]
  },
  {
   "cell_type": "code",
   "execution_count": null,
   "id": "2465c4cf-5faf-4801-b3c5-bbf36d791a6d",
   "metadata": {},
   "outputs": [],
   "source": [
    "df"
   ]
  },
  {
   "cell_type": "code",
   "execution_count": null,
   "id": "c95bf63f-549a-461e-95eb-e732935c3d82",
   "metadata": {},
   "outputs": [],
   "source": [
    "k = [\n",
    "    {'Name':'Arun','Mark':100,'City':'Chennai'},\n",
    "    {'Name':'Guru','Mark':50,'City':'CMBT'},\n",
    "    {'Name':'Vijay','Mark':25,'City':'Chengalpat'}  \n",
    "]"
   ]
  },
  {
   "cell_type": "code",
   "execution_count": null,
   "id": "5c66c7cc-21e8-495f-9116-d8eb79d472cb",
   "metadata": {},
   "outputs": [],
   "source": [
    "df = pd.DataFrame(k)\n",
    "print(df)"
   ]
  },
  {
   "cell_type": "code",
   "execution_count": null,
   "id": "721a33e5-96f9-4032-b89f-13dad52dc205",
   "metadata": {},
   "outputs": [],
   "source": [
    "import os"
   ]
  },
  {
   "cell_type": "code",
   "execution_count": null,
   "id": "fed6920c-2c80-4191-aac7-bf38bd45bb16",
   "metadata": {},
   "outputs": [],
   "source": [
    "os.getcwd()"
   ]
  },
  {
   "cell_type": "code",
   "execution_count": null,
   "id": "0667668b-d59d-4d92-a864-04d35befaa5f",
   "metadata": {},
   "outputs": [],
   "source": [
    "os.chdir(\"C:\\\\Users\\\\LENOVO\\\\Downloads\")"
   ]
  },
  {
   "cell_type": "code",
   "execution_count": null,
   "id": "5d81039a-932d-4a94-b332-7e2c30dc7e0c",
   "metadata": {},
   "outputs": [],
   "source": [
    "os.getcwd()"
   ]
  },
  {
   "cell_type": "code",
   "execution_count": null,
   "id": "155028dc-7912-4691-9ed3-94bb03d661e8",
   "metadata": {},
   "outputs": [],
   "source": [
    "df = pd.read_csv('Data.csv')"
   ]
  },
  {
   "cell_type": "code",
   "execution_count": null,
   "id": "870f2648-802d-403b-86df-3afd815d17d0",
   "metadata": {},
   "outputs": [],
   "source": [
    "df.head()"
   ]
  },
  {
   "cell_type": "code",
   "execution_count": null,
   "id": "a9638789-6729-45cf-893d-b07f40cb799a",
   "metadata": {},
   "outputs": [],
   "source": [
    "df.tail()"
   ]
  },
  {
   "cell_type": "code",
   "execution_count": null,
   "id": "2da5f94e-b743-4e43-8e20-784ae2239514",
   "metadata": {},
   "outputs": [],
   "source": [
    "df['Value'].head()"
   ]
  },
  {
   "cell_type": "code",
   "execution_count": null,
   "id": "e5851754-775f-4eff-acbc-a117ad2ea2a4",
   "metadata": {},
   "outputs": [],
   "source": [
    "df.head()"
   ]
  },
  {
   "cell_type": "code",
   "execution_count": null,
   "id": "f7cad7ef-8835-4e00-b838-33fec3b8c098",
   "metadata": {},
   "outputs": [],
   "source": [
    "df.loc[1]"
   ]
  },
  {
   "cell_type": "code",
   "execution_count": null,
   "id": "299a9e06-e2d3-415a-893b-d112ffba5d7a",
   "metadata": {},
   "outputs": [],
   "source": [
    "df.iloc[4]"
   ]
  },
  {
   "cell_type": "code",
   "execution_count": null,
   "id": "a2465268-1d4c-4902-a7a5-7ea35fe50a0c",
   "metadata": {},
   "outputs": [],
   "source": [
    "df.head()"
   ]
  },
  {
   "cell_type": "code",
   "execution_count": null,
   "id": "805360a5-240a-4597-be66-a1a6144a8e30",
   "metadata": {},
   "outputs": [],
   "source": [
    "df.loc[3]"
   ]
  },
  {
   "cell_type": "code",
   "execution_count": null,
   "id": "a9c054da-9603-45d4-aba1-c170de073187",
   "metadata": {},
   "outputs": [],
   "source": [
    "df.at[3,'Sales']"
   ]
  },
  {
   "cell_type": "code",
   "execution_count": null,
   "id": "f7082048-2201-4d47-8853-7c74c169dc92",
   "metadata": {},
   "outputs": [],
   "source": [
    "df.iat[3,4]"
   ]
  },
  {
   "cell_type": "code",
   "execution_count": null,
   "id": "7f671831-832f-462e-8ff7-f7aafc1fed44",
   "metadata": {},
   "outputs": [],
   "source": [
    "df.drop('Region',axis = 1).head()"
   ]
  },
  {
   "cell_type": "code",
   "execution_count": null,
   "id": "58dd948f-2fbc-415a-92c8-0cad6fa6e91f",
   "metadata": {},
   "outputs": [],
   "source": [
    "df.head()"
   ]
  },
  {
   "cell_type": "code",
   "execution_count": null,
   "id": "8bb30c05-0f79-4244-a8fc-05d60e392ee0",
   "metadata": {},
   "outputs": [],
   "source": [
    "df.drop('Region',axis=1).head()"
   ]
  },
  {
   "cell_type": "code",
   "execution_count": null,
   "id": "d628c8f1-ba44-4d60-9393-1179620dbaef",
   "metadata": {},
   "outputs": [],
   "source": [
    "df.drop('Region',axis = 1, inplace = True)"
   ]
  },
  {
   "cell_type": "code",
   "execution_count": null,
   "id": "4056537e-2ed0-42c4-9692-d15d3cfb4678",
   "metadata": {},
   "outputs": [],
   "source": [
    "df.head()"
   ]
  },
  {
   "cell_type": "code",
   "execution_count": null,
   "id": "99f01bc4-729d-4332-b935-a666207c4c42",
   "metadata": {},
   "outputs": [],
   "source": [
    "df.drop(3).head()"
   ]
  },
  {
   "cell_type": "code",
   "execution_count": null,
   "id": "c12ea207-5529-4083-a8b6-f9a576538ef1",
   "metadata": {},
   "outputs": [],
   "source": [
    "df.head()"
   ]
  },
  {
   "cell_type": "code",
   "execution_count": null,
   "id": "2549c26e-0a34-41bf-b65d-323e0cb3dd16",
   "metadata": {},
   "outputs": [],
   "source": [
    "df.drop(7).head()"
   ]
  },
  {
   "cell_type": "code",
   "execution_count": null,
   "id": "6094865a-a73b-499b-80ad-d71826e85d5f",
   "metadata": {},
   "outputs": [],
   "source": [
    "df.dtypes"
   ]
  },
  {
   "cell_type": "code",
   "execution_count": null,
   "id": "1232476b-36b3-4815-af9a-1637175f6c86",
   "metadata": {},
   "outputs": [],
   "source": [
    "df.describe()"
   ]
  },
  {
   "cell_type": "code",
   "execution_count": null,
   "id": "c98e0f57-087c-40d1-9f4d-ab65f38e1a37",
   "metadata": {},
   "outputs": [],
   "source": [
    "df.shape"
   ]
  },
  {
   "cell_type": "code",
   "execution_count": null,
   "id": "e2c5289b-fd79-4aba-8f1e-84e014f43326",
   "metadata": {},
   "outputs": [],
   "source": [
    "df.head()"
   ]
  },
  {
   "cell_type": "code",
   "execution_count": null,
   "id": "fd31c54b-36e2-4685-8306-fa03b9892802",
   "metadata": {},
   "outputs": [],
   "source": [
    "df.info()"
   ]
  },
  {
   "cell_type": "code",
   "execution_count": null,
   "id": "7f978bb0-2a87-4c0b-bc84-7501fce55f97",
   "metadata": {},
   "outputs": [],
   "source": [
    "print(df['Region'].unique())"
   ]
  },
  {
   "cell_type": "code",
   "execution_count": null,
   "id": "875d4541-8b4c-4ffb-891c-ca5382887cd4",
   "metadata": {},
   "outputs": [],
   "source": [
    "print(df['Region'].nunique())"
   ]
  },
  {
   "cell_type": "code",
   "execution_count": null,
   "id": "e1a64c16-c294-48fc-962a-61cae47c3e57",
   "metadata": {},
   "outputs": [],
   "source": [
    "import pandas as pd\n",
    "import os"
   ]
  },
  {
   "cell_type": "code",
   "execution_count": null,
   "id": "aef54246-92b2-4ec4-b951-4b0a4671598d",
   "metadata": {},
   "outputs": [],
   "source": [
    "os.getcwd()"
   ]
  },
  {
   "cell_type": "code",
   "execution_count": null,
   "id": "767fc73a-61a3-4abe-86da-45b5aa75c46b",
   "metadata": {},
   "outputs": [],
   "source": [
    "os.chdir(\"C:\\\\Users\\\\LENOVO\\\\Downloads\")"
   ]
  },
  {
   "cell_type": "code",
   "execution_count": null,
   "id": "40e82d99-9dd4-44b2-b3b6-7b6f725ff008",
   "metadata": {},
   "outputs": [],
   "source": [
    "os.getcwd()"
   ]
  },
  {
   "cell_type": "code",
   "execution_count": null,
   "id": "e913cdeb-e547-4355-939d-9b5b0abf0eb4",
   "metadata": {},
   "outputs": [],
   "source": [
    "df = pd.read_csv('top_10_countries_no_header.csv',header = None)"
   ]
  },
  {
   "cell_type": "code",
   "execution_count": null,
   "id": "a98747f8-802f-42c1-8e19-662943764345",
   "metadata": {},
   "outputs": [],
   "source": [
    "df"
   ]
  },
  {
   "cell_type": "code",
   "execution_count": null,
   "id": "eafa5f19-1e30-4d98-a7e2-b9c478423466",
   "metadata": {},
   "outputs": [],
   "source": [
    "df.shape"
   ]
  },
  {
   "cell_type": "code",
   "execution_count": null,
   "id": "b29409f1-fe42-4638-befd-21727b00a0a6",
   "metadata": {},
   "outputs": [],
   "source": [
    "df.head(2)"
   ]
  },
  {
   "cell_type": "code",
   "execution_count": null,
   "id": "a25eb334-b41f-4a53-84f8-a50a28612a21",
   "metadata": {},
   "outputs": [],
   "source": [
    "df.tail()"
   ]
  },
  {
   "cell_type": "code",
   "execution_count": null,
   "id": "d7cadb7b-8920-4232-a3e6-d5f5fd19f869",
   "metadata": {},
   "outputs": [],
   "source": [
    "df.tail(2)"
   ]
  },
  {
   "cell_type": "code",
   "execution_count": null,
   "id": "320acbd4-7581-4fe2-beb2-80cbc63ea6b8",
   "metadata": {},
   "outputs": [],
   "source": [
    "df = pd.read_csv('top_10_countries.csv')"
   ]
  },
  {
   "cell_type": "code",
   "execution_count": null,
   "id": "15c642bb-8a54-4223-b271-98d40f7301d4",
   "metadata": {},
   "outputs": [],
   "source": [
    "df"
   ]
  },
  {
   "cell_type": "code",
   "execution_count": null,
   "id": "b6950403-a97c-4fa6-ab9a-697a188cdf2a",
   "metadata": {},
   "outputs": [],
   "source": [
    "df.head()"
   ]
  },
  {
   "cell_type": "code",
   "execution_count": null,
   "id": "3d1f2518-23ee-4611-8360-d08ecd63774e",
   "metadata": {},
   "outputs": [],
   "source": [
    "df.tail()"
   ]
  },
  {
   "cell_type": "code",
   "execution_count": null,
   "id": "fbd253a3-eacb-498b-8ddc-47548dd7f180",
   "metadata": {},
   "outputs": [],
   "source": [
    "type(df['Region'])"
   ]
  },
  {
   "cell_type": "code",
   "execution_count": null,
   "id": "4c7a6133-4479-4b05-af24-f46c79812f16",
   "metadata": {},
   "outputs": [],
   "source": [
    "df[['Region','Population','Country / Dependency']]"
   ]
  },
  {
   "cell_type": "code",
   "execution_count": null,
   "id": "e2a15452-9a2b-4138-b3da-fc298f5f7c94",
   "metadata": {},
   "outputs": [],
   "source": [
    "df.iloc[3]"
   ]
  },
  {
   "cell_type": "code",
   "execution_count": null,
   "id": "9807a8b7-45b5-4532-a1ff-8ad3312b96db",
   "metadata": {},
   "outputs": [],
   "source": [
    "df.iloc[3:]"
   ]
  },
  {
   "cell_type": "code",
   "execution_count": null,
   "id": "351c77f6-b8fc-4a6d-8263-7ca08564f937",
   "metadata": {},
   "outputs": [],
   "source": [
    "df.iloc[::-1]"
   ]
  },
  {
   "cell_type": "code",
   "execution_count": null,
   "id": "b2515e2d-5103-4a3d-9c6f-20196957ba63",
   "metadata": {},
   "outputs": [],
   "source": [
    "df.iloc[2]"
   ]
  },
  {
   "cell_type": "code",
   "execution_count": null,
   "id": "c8b4af50-63ae-46ff-9ee1-b45699d88d86",
   "metadata": {},
   "outputs": [],
   "source": [
    "df.iloc[2:]"
   ]
  },
  {
   "cell_type": "code",
   "execution_count": null,
   "id": "f404ec35-8b70-49c5-8e80-ad0b0c0b0fce",
   "metadata": {},
   "outputs": [],
   "source": [
    "df.iloc[2:,2:4]"
   ]
  },
  {
   "cell_type": "code",
   "execution_count": null,
   "id": "64376012-ad2e-4a7c-be4b-91837c6a69a2",
   "metadata": {},
   "outputs": [],
   "source": [
    "df"
   ]
  },
  {
   "cell_type": "code",
   "execution_count": null,
   "id": "c32fdaa7-fcb2-44b2-a9b3-8830cb36736f",
   "metadata": {},
   "outputs": [],
   "source": [
    "df.loc[2:,['Region','% of world']]"
   ]
  },
  {
   "cell_type": "code",
   "execution_count": null,
   "id": "47c55c4c-436d-4b83-be7e-b967c7ae457d",
   "metadata": {},
   "outputs": [],
   "source": [
    "df['Region']"
   ]
  },
  {
   "cell_type": "code",
   "execution_count": null,
   "id": "a8a0a3d6-3217-43ab-aa51-5223a805b3df",
   "metadata": {},
   "outputs": [],
   "source": [
    "df['Region'] == 'Asia'"
   ]
  },
  {
   "cell_type": "code",
   "execution_count": null,
   "id": "dc17e8fe-0023-4b0e-ac39-7a1b95ce9a9b",
   "metadata": {},
   "outputs": [],
   "source": [
    "df[df['Region'] == 'Asia']"
   ]
  },
  {
   "cell_type": "code",
   "execution_count": null,
   "id": "c3fe1bc4-a749-49ef-b867-104c92a98451",
   "metadata": {},
   "outputs": [],
   "source": [
    "df[df['Date'] == '18-Jan-22']"
   ]
  },
  {
   "cell_type": "code",
   "execution_count": null,
   "id": "d057a8b3-be3e-424e-bf02-7de95a636055",
   "metadata": {},
   "outputs": [],
   "source": [
    "df[(df['Date'] == '18-Jan-22') & (df['Region']=='Asia')]"
   ]
  },
  {
   "cell_type": "code",
   "execution_count": null,
   "id": "57142458-59e8-49ea-bc98-7e1867aac12a",
   "metadata": {},
   "outputs": [],
   "source": [
    "df[(df['Date'] == '18-Jan-22') & (df['Region']=='Asia') | (df['Rank']==2)]"
   ]
  },
  {
   "cell_type": "code",
   "execution_count": null,
   "id": "a6887f40-a89a-4c90-a826-46756d8fc729",
   "metadata": {},
   "outputs": [],
   "source": [
    "df['Region'].isin(['Asia'])"
   ]
  },
  {
   "cell_type": "code",
   "execution_count": null,
   "id": "b8a69465-1acf-4e35-87ae-b6df170037b7",
   "metadata": {},
   "outputs": [],
   "source": []
  }
 ],
 "metadata": {
  "kernelspec": {
   "display_name": "Python 3 (ipykernel)",
   "language": "python",
   "name": "python3"
  },
  "language_info": {
   "codemirror_mode": {
    "name": "ipython",
    "version": 3
   },
   "file_extension": ".py",
   "mimetype": "text/x-python",
   "name": "python",
   "nbconvert_exporter": "python",
   "pygments_lexer": "ipython3",
   "version": "3.12.7"
  }
 },
 "nbformat": 4,
 "nbformat_minor": 5
}
